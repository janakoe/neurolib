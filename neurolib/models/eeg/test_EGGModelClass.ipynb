{
 "cells": [
  {
   "cell_type": "markdown",
   "metadata": {
    "collapsed": true,
    "pycharm": {
     "name": "#%% md\n"
    }
   },
   "source": [
    "I CAN DELETE THIS FILE LATER, FOR NOW IT'S HERE SO WE CAN LATER ON TEST IF THE EEG MODEL CLASS IS WORKING"
   ]
  },
  {
   "cell_type": "code",
   "execution_count": 1,
   "outputs": [],
   "source": [
    "from model import EEGModel\n",
    "%load_ext autoreload\n",
    "%autoreload 2\n",
    "import matplotlib\n",
    "import mne\n",
    "from neurolib.utils.collections import dotdict\n",
    "from neurolib.utils.loadData import Dataset\n",
    "# Let's import the aln model\n",
    "from neurolib.models.aln import ALNModel\n",
    "import neurolib.utils.functions as func\n",
    "import numpy as np"
   ],
   "metadata": {
    "collapsed": false,
    "pycharm": {
     "name": "#%%\n"
    }
   }
  },
  {
   "cell_type": "code",
   "execution_count": 2,
   "outputs": [
    {
     "name": "stdout",
     "output_type": "stream",
     "text": [
      "Creating the BEM geometry...\n",
      "Going from 5th to 4th subdivision of an icosahedron (n_tri: 20480 -> 5120)\n",
      "Nearest-neighbor searches will be significantly faster if scikit-learn is installed.\n",
      "Going from 5th to 4th subdivision of an icosahedron (n_tri: 20480 -> 5120)\n",
      "Nearest-neighbor searches will be significantly faster if scikit-learn is installed.\n",
      "Going from 5th to 4th subdivision of an icosahedron (n_tri: 20480 -> 5120)\n",
      "Nearest-neighbor searches will be significantly faster if scikit-learn is installed.\n",
      "outer skin  CM is  -0.21 -19.38  -0.23 mm\n",
      "outer skull CM is  -0.19 -19.34  -0.49 mm\n",
      "inner skull CM is  -0.53 -21.10   6.21 mm\n",
      "Checking that surface outer skull is inside surface outer skin  ...\n",
      "Checking that surface inner skull is inside surface outer skull ...\n",
      "Nearest-neighbor searches will be significantly faster if scikit-learn is installed.\n",
      "Checking distance between outer skin  and outer skull surfaces...\n",
      "Minimum distance between the outer skin  and outer skull surfaces is approximately    1.6 mm\n",
      "Nearest-neighbor searches will be significantly faster if scikit-learn is installed.\n",
      "Checking distance between outer skull and inner skull surfaces...\n",
      "Minimum distance between the outer skull and inner skull surfaces is approximately    5.4 mm\n",
      "Surfaces passed the basic topology checks.\n",
      "Complete.\n",
      "\n",
      "Approximation method : Linear collocation\n",
      "\n",
      "Three-layer model surfaces loaded.\n",
      "Computing the linear collocation solution...\n",
      "    Matrix coefficients...\n",
      "        outer skin  (2562) -> outer skin  (2562) ...\n",
      "        outer skin  (2562) -> outer skull (2562) ...\n",
      "        outer skin  (2562) -> inner skull (2562) ...\n",
      "        outer skull (2562) -> outer skin  (2562) ...\n",
      "        outer skull (2562) -> outer skull (2562) ...\n",
      "        outer skull (2562) -> inner skull (2562) ...\n",
      "        inner skull (2562) -> outer skin  (2562) ...\n",
      "        inner skull (2562) -> outer skull (2562) ...\n",
      "        inner skull (2562) -> inner skull (2562) ...\n",
      "    Inverting the coefficient matrix...\n",
      "IP approach required...\n",
      "    Matrix coefficients (homog)...\n",
      "        inner skull (2562) -> inner skull (2562) ...\n",
      "    Inverting the coefficient matrix (homog)...\n",
      "    Modify the original solution to incorporate IP approach...\n",
      "        Combining...\n",
      "        Scaling...\n",
      "Solution ready.\n",
      "BEM geometry computations complete.\n",
      "Setting up the source space with the following parameters:\n",
      "\n",
      "SUBJECTS_DIR = /home/lauraflyra/Documents/BCCN/NI_project/neurolib_jana/neurolib/neurolib/models/eeg/../../data/datasets/eeg_fsaverage\n",
      "Subject      = fsaverage\n",
      "Surface      = white\n",
      "Octahedron subdivision grade 6\n",
      "\n",
      ">>> 1. Creating the source space...\n",
      "\n",
      "Doing the octahedral vertex picking...\n",
      "Loading /home/lauraflyra/Documents/BCCN/NI_project/neurolib_jana/neurolib/neurolib/models/eeg/../../data/datasets/eeg_fsaverage/fsaverage/surf/lh.white...\n",
      "Mapping lh fsaverage -> oct (6) ...\n",
      "    Warning: zero size triangles: [3 4]\n",
      "    Triangle neighbors and vertex normals...\n",
      "Loading geometry from /home/lauraflyra/Documents/BCCN/NI_project/neurolib_jana/neurolib/neurolib/models/eeg/../../data/datasets/eeg_fsaverage/fsaverage/surf/lh.sphere...\n",
      "Nearest-neighbor searches will be significantly faster if scikit-learn is installed.\n",
      "Setting up the triangulation for the decimated surface...\n",
      "loaded lh.white 4098/163842 selected to source space (oct = 6)\n",
      "\n",
      "Loading /home/lauraflyra/Documents/BCCN/NI_project/neurolib_jana/neurolib/neurolib/models/eeg/../../data/datasets/eeg_fsaverage/fsaverage/surf/rh.white...\n",
      "Mapping rh fsaverage -> oct (6) ...\n",
      "    Warning: zero size triangles: [3 4]\n",
      "    Triangle neighbors and vertex normals...\n",
      "Loading geometry from /home/lauraflyra/Documents/BCCN/NI_project/neurolib_jana/neurolib/neurolib/models/eeg/../../data/datasets/eeg_fsaverage/fsaverage/surf/rh.sphere...\n",
      "Nearest-neighbor searches will be significantly faster if scikit-learn is installed.\n",
      "Setting up the triangulation for the decimated surface...\n",
      "loaded rh.white 4098/163842 selected to source space (oct = 6)\n",
      "\n",
      "Calculating patch information (limit=0.0 mm)...\n",
      "    Computing patch statistics...\n",
      "    Patch information added...\n",
      "    Computing patch statistics...\n",
      "    Patch information added...\n",
      "You are now one step closer to computing the gain matrix\n",
      "Sampling rate 67\n",
      "Source space          : <SourceSpaces: [<surface (lh), n_vertices=163842, n_used=4098>, <surface (rh), n_vertices=163842, n_used=4098>] MRI (surface RAS) coords, subject 'fsaverage', ~31.3 MB>\n",
      "MRI -> head transform : /home/lauraflyra/Documents/BCCN/NI_project/neurolib_jana/neurolib/venv/lib/python3.8/site-packages/mne/data/fsaverage/fsaverage-trans.fif\n",
      "Measurement data      : instance of Info\n",
      "Conductor model   : instance of ConductorModel\n",
      "Accurate field computations\n",
      "Do computations in head coordinates\n",
      "Free source orientations\n",
      "\n",
      "Read 2 source spaces a total of 8196 active source locations\n",
      "\n",
      "Coordinate transformation: MRI (surface RAS) -> head\n",
      "     0.999994  0.003552  0.000202      -1.76 mm\n",
      "    -0.003558  0.998389  0.056626      31.09 mm\n",
      "    -0.000001 -0.056626  0.998395      39.60 mm\n",
      "     0.000000  0.000000  0.000000       1.00\n",
      "\n",
      "Read  94 EEG channels from info\n",
      "Head coordinate coil definitions created.\n",
      "Source spaces are now in head coordinates.\n",
      "\n",
      "Employing the head->MRI coordinate transform with the BEM model.\n",
      "BEM model instance of ConductorModel is now set up\n",
      "\n",
      "Source spaces are in head coordinates.\n",
      "Checking that the sources are inside the surface (will take a few...)\n",
      "Checking surface interior status for 4098 points...\n",
      "    Found  999/4098 points inside  an interior sphere of radius   47.7 mm\n",
      "    Found    0/4098 points outside an exterior sphere of radius   98.3 mm\n",
      "    Found    0/3099 points outside using surface Qhull\n",
      "    Found    0/3099 points outside using solid angles\n",
      "    Total 4098/4098 points inside the surface\n",
      "Interior check completed in 1507.3 ms\n",
      "Checking surface interior status for 4098 points...\n",
      "    Found  906/4098 points inside  an interior sphere of radius   47.7 mm\n",
      "    Found    0/4098 points outside an exterior sphere of radius   98.3 mm\n",
      "    Found    0/3192 points outside using surface Qhull\n",
      "    Found    0/3192 points outside using solid angles\n",
      "    Total 4098/4098 points inside the surface\n",
      "Interior check completed in 1498.4 ms\n",
      "\n",
      "Setting up for EEG...\n",
      "Computing EEG at 8196 source locations (free orientations)...\n",
      "\n",
      "Finished.\n",
      "    Average patch normals will be employed in the rotation to the local surface coordinates....\n",
      "    Converting to surface-based source orientations...\n",
      "    [done]\n"
     ]
    },
    {
     "name": "stderr",
     "output_type": "stream",
     "text": [
      "WARNING:root:Atlas doesn't start at 0, reindexing...\n"
     ]
    }
   ],
   "source": [
    "# initialize ALN Model\n",
    "ds = Dataset(\"gw\")\n",
    "aln = ALNModel(Cmat = ds.Cmat, Dmat = ds.Dmat)\n",
    "aln.params['duration'] = 0.2*60*1000\n",
    "\n",
    "# change EEG parameters\n",
    "# aln.params['eeg_conductances'] = (0.3, 0.006, 0.3)\n",
    "# aln.params['eeg_scr_spacing'] = \"oct4\"\n",
    "aln.params['eeg_montage_sfreq'] = 150\n",
    "\n",
    "\n",
    "# run model with eeg=True\n",
    "aln.run(eeg=True)\n",
    "\n",
    "# access EEG signal\n",
    "EEG = aln.outputs['EEG']['EEG']\n",
    "t_EEG = aln.outputs['EEG']['t_EEG']"
   ],
   "metadata": {
    "collapsed": false,
    "pycharm": {
     "name": "#%%\n"
    }
   }
  },
  {
   "cell_type": "code",
   "execution_count": 3,
   "outputs": [
    {
     "data": {
      "text/plain": "array([1.00000e-01, 6.80000e+00, 1.35000e+01, ..., 1.19864e+04,\n       1.19931e+04, 1.19998e+04])"
     },
     "execution_count": 3,
     "metadata": {},
     "output_type": "execute_result"
    }
   ],
   "source": [
    "aln.outputs['EEG']['t_EEG']"
   ],
   "metadata": {
    "collapsed": false,
    "pycharm": {
     "name": "#%%\n"
    }
   }
  },
  {
   "cell_type": "code",
   "execution_count": 4,
   "outputs": [
    {
     "data": {
      "text/plain": "array([149.25373134, 149.25373134, 149.25373134, ..., 149.25373134,\n       149.25373134, 149.25373134])"
     },
     "execution_count": 4,
     "metadata": {},
     "output_type": "execute_result"
    }
   ],
   "source": [
    "1/np.diff(aln.outputs['EEG']['t_EEG']/1000) # THIS MEANS THAT THE DOWNSAMPLING IS WORKING!!"
   ],
   "metadata": {
    "collapsed": false,
    "pycharm": {
     "name": "#%%\n"
    }
   }
  },
  {
   "cell_type": "code",
   "execution_count": 5,
   "outputs": [
    {
     "data": {
      "text/plain": "{'t': array([1.00000e-01, 2.00000e-01, 3.00000e-01, ..., 1.19998e+04,\n        1.19999e+04, 1.20000e+04]),\n 'rates_exc': array([[1.19990058e+01, 1.16902676e+01, 1.13856272e+01, ...,\n         8.26418037e-02, 7.92437208e-02, 7.58884836e-02],\n        [5.37567498e+01, 4.83077964e+01, 4.38307159e+01, ...,\n         5.79336630e+01, 5.78200258e+01, 5.76435065e+01],\n        [4.20580436e+01, 3.80497950e+01, 3.46634633e+01, ...,\n         2.82164369e+01, 2.90804926e+01, 2.99412251e+01],\n        ...,\n        [3.39972614e+00, 3.07706483e+00, 2.78598987e+00, ...,\n         4.52121179e-02, 4.60065497e-02, 4.70210882e-02],\n        [2.76561742e+01, 2.66029400e+01, 2.56061231e+01, ...,\n         3.85862666e-01, 4.20764476e-01, 4.56006984e-01],\n        [2.76326329e+00, 2.73052437e+00, 2.69303513e+00, ...,\n         1.27538026e+01, 1.20299670e+01, 1.13603584e+01]]),\n 'rates_inh': array([[73.93163708, 64.43252655, 57.47407632, ...,  4.15145993,\n          3.96309569,  3.78771891],\n        [55.13766661, 49.48412398, 44.92166225, ..., 20.56373966,\n         21.74860213, 22.95587297],\n        [48.54533245, 45.55453895, 42.89685107, ...,  1.20634361,\n          1.25749702,  1.31076572],\n        ...,\n        [45.04766753, 42.9655133 , 41.02314249, ...,  0.12911343,\n          0.12789482,  0.12673652],\n        [73.01892253, 66.34974932, 61.09204783, ...,  0.1143313 ,\n          0.11404261,  0.11379886],\n        [39.54281744, 39.32638207, 38.99962689, ..., 35.77991314,\n         35.48750184, 35.2168362 ]]),\n 'IA': array([[2.99155844e+01, 2.99006266e+01, 2.98856763e+01, ...,\n         2.58442297e-25, 2.58313076e-25, 2.58183920e-25],\n        [1.31752028e+02, 1.31686152e+02, 1.31620309e+02, ...,\n         1.13821266e-24, 1.13764355e-24, 1.13707473e-24],\n        [1.16578855e+02, 1.16520566e+02, 1.16462305e+02, ...,\n         1.00713082e-24, 1.00662726e-24, 1.00612394e-24],\n        ...,\n        [1.23233162e+02, 1.23171545e+02, 1.23109959e+02, ...,\n         1.06461772e-24, 1.06408541e-24, 1.06355337e-24],\n        [5.40624373e+01, 5.40354061e+01, 5.40083884e+01, ...,\n         4.67048221e-25, 4.66814697e-25, 4.66581290e-25],\n        [6.70672073e+01, 6.70336737e+01, 6.70001569e+01, ...,\n         5.79397109e-25, 5.79107410e-25, 5.78817856e-25]]),\n 'EEG': {'t_EEG': array([1.00000e-01, 6.80000e+00, 1.35000e+01, ..., 1.19864e+04,\n         1.19931e+04, 1.19998e+04]),\n  'EEG': array([[  306.77062325,   144.91107719,    62.76919601, ...,\n           2984.30188379, -5012.36372104, -3639.92497598],\n         [  764.11032893, -1549.7750841 ,  -392.49573768, ...,\n          -1436.9744985 , -2565.10242792, -2225.75746671],\n         [  918.14154134, -2043.07264247,  -451.47241598, ...,\n          -5381.82217031, -1775.08199205, -1559.45383254],\n         ...,\n         [ 1504.11980142,   256.02165405,    51.93277798, ...,\n           1903.44137604,  3798.57326631, -2358.95017589],\n         [-1376.52129807,  1245.39526107,   232.63153379, ...,\n             34.22284154,  -994.12628605, -1865.82326797],\n         [ 1188.92050432,    79.41805024,    23.16930505, ...,\n            247.56786237,  2864.85762764, -1797.05761682]])}}"
     },
     "execution_count": 5,
     "metadata": {},
     "output_type": "execute_result"
    }
   ],
   "source": [
    "aln.outputs"
   ],
   "metadata": {
    "collapsed": false,
    "pycharm": {
     "name": "#%%\n"
    }
   }
  }
 ],
 "metadata": {
  "kernelspec": {
   "display_name": "Python 3",
   "language": "python",
   "name": "python3"
  },
  "language_info": {
   "codemirror_mode": {
    "name": "ipython",
    "version": 2
   },
   "file_extension": ".py",
   "mimetype": "text/x-python",
   "name": "python",
   "nbconvert_exporter": "python",
   "pygments_lexer": "ipython2",
   "version": "2.7.6"
  }
 },
 "nbformat": 4,
 "nbformat_minor": 0
}