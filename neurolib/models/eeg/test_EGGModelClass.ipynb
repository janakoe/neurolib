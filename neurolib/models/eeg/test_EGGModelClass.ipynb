{
 "cells": [
  {
   "cell_type": "markdown",
   "metadata": {
    "collapsed": true,
    "pycharm": {
     "name": "#%% md\n"
    }
   },
   "source": [
    "I CAN DELETE THIS FILE LATER, FOR NOW IT'S HERE SO WE CAN LATER ON TEST IF THE EEG MODEL CLASS IS WORKING"
   ]
  },
  {
   "cell_type": "code",
   "execution_count": 1,
   "outputs": [],
   "source": [
    "from model import EEGModel\n",
    "%load_ext autoreload\n",
    "%autoreload 2\n",
    "import matplotlib\n",
    "import mne\n",
    "from neurolib.utils.collections import dotdict\n",
    "from neurolib.utils.loadData import Dataset\n",
    "# Let's import the aln model\n",
    "from neurolib.models.aln import ALNModel\n",
    "import neurolib.utils.functions as func\n",
    "import numpy as np"
   ],
   "metadata": {
    "collapsed": false,
    "pycharm": {
     "name": "#%%\n"
    }
   }
  },
  {
   "cell_type": "code",
   "execution_count": 2,
   "outputs": [
    {
     "name": "stdout",
     "output_type": "stream",
     "text": [
      "Creating the BEM geometry...\n",
      "Going from 5th to 4th subdivision of an icosahedron (n_tri: 20480 -> 5120)\n",
      "Nearest-neighbor searches will be significantly faster if scikit-learn is installed.\n",
      "Going from 5th to 4th subdivision of an icosahedron (n_tri: 20480 -> 5120)\n",
      "Nearest-neighbor searches will be significantly faster if scikit-learn is installed.\n",
      "Going from 5th to 4th subdivision of an icosahedron (n_tri: 20480 -> 5120)\n",
      "Nearest-neighbor searches will be significantly faster if scikit-learn is installed.\n",
      "outer skin  CM is  -0.21 -19.38  -0.23 mm\n",
      "outer skull CM is  -0.19 -19.34  -0.49 mm\n",
      "inner skull CM is  -0.53 -21.10   6.21 mm\n",
      "Checking that surface outer skull is inside surface outer skin  ...\n",
      "Checking that surface inner skull is inside surface outer skull ...\n",
      "Nearest-neighbor searches will be significantly faster if scikit-learn is installed.\n",
      "Checking distance between outer skin  and outer skull surfaces...\n",
      "Minimum distance between the outer skin  and outer skull surfaces is approximately    1.6 mm\n",
      "Nearest-neighbor searches will be significantly faster if scikit-learn is installed.\n",
      "Checking distance between outer skull and inner skull surfaces...\n",
      "Minimum distance between the outer skull and inner skull surfaces is approximately    5.4 mm\n",
      "Surfaces passed the basic topology checks.\n",
      "Complete.\n",
      "\n",
      "Approximation method : Linear collocation\n",
      "\n",
      "Three-layer model surfaces loaded.\n",
      "Computing the linear collocation solution...\n",
      "    Matrix coefficients...\n",
      "        outer skin  (2562) -> outer skin  (2562) ...\n",
      "        outer skin  (2562) -> outer skull (2562) ...\n",
      "        outer skin  (2562) -> inner skull (2562) ...\n",
      "        outer skull (2562) -> outer skin  (2562) ...\n",
      "        outer skull (2562) -> outer skull (2562) ...\n",
      "        outer skull (2562) -> inner skull (2562) ...\n",
      "        inner skull (2562) -> outer skin  (2562) ...\n",
      "        inner skull (2562) -> outer skull (2562) ...\n",
      "        inner skull (2562) -> inner skull (2562) ...\n",
      "    Inverting the coefficient matrix...\n",
      "IP approach required...\n",
      "    Matrix coefficients (homog)...\n",
      "        inner skull (2562) -> inner skull (2562) ...\n",
      "    Inverting the coefficient matrix (homog)...\n",
      "    Modify the original solution to incorporate IP approach...\n",
      "        Combining...\n",
      "        Scaling...\n",
      "Solution ready.\n",
      "BEM geometry computations complete.\n",
      "Setting up the source space with the following parameters:\n",
      "\n",
      "SUBJECTS_DIR = /home/lauraflyra/Documents/BCCN/NI_project/neurolib_jana/neurolib/neurolib/models/eeg/../../data/datasets/eeg_fsaverage\n",
      "Subject      = fsaverage\n",
      "Surface      = white\n",
      "Octahedron subdivision grade 6\n",
      "\n",
      ">>> 1. Creating the source space...\n",
      "\n",
      "Doing the octahedral vertex picking...\n",
      "Loading /home/lauraflyra/Documents/BCCN/NI_project/neurolib_jana/neurolib/neurolib/models/eeg/../../data/datasets/eeg_fsaverage/fsaverage/surf/lh.white...\n",
      "Mapping lh fsaverage -> oct (6) ...\n",
      "    Warning: zero size triangles: [3 4]\n",
      "    Triangle neighbors and vertex normals...\n",
      "Loading geometry from /home/lauraflyra/Documents/BCCN/NI_project/neurolib_jana/neurolib/neurolib/models/eeg/../../data/datasets/eeg_fsaverage/fsaverage/surf/lh.sphere...\n",
      "Nearest-neighbor searches will be significantly faster if scikit-learn is installed.\n",
      "Setting up the triangulation for the decimated surface...\n",
      "loaded lh.white 4098/163842 selected to source space (oct = 6)\n",
      "\n",
      "Loading /home/lauraflyra/Documents/BCCN/NI_project/neurolib_jana/neurolib/neurolib/models/eeg/../../data/datasets/eeg_fsaverage/fsaverage/surf/rh.white...\n",
      "Mapping rh fsaverage -> oct (6) ...\n",
      "    Warning: zero size triangles: [3 4]\n",
      "    Triangle neighbors and vertex normals...\n",
      "Loading geometry from /home/lauraflyra/Documents/BCCN/NI_project/neurolib_jana/neurolib/neurolib/models/eeg/../../data/datasets/eeg_fsaverage/fsaverage/surf/rh.sphere...\n",
      "Nearest-neighbor searches will be significantly faster if scikit-learn is installed.\n",
      "Setting up the triangulation for the decimated surface...\n",
      "loaded rh.white 4098/163842 selected to source space (oct = 6)\n",
      "\n",
      "Calculating patch information (limit=0.0 mm)...\n",
      "    Computing patch statistics...\n",
      "    Patch information added...\n",
      "    Computing patch statistics...\n",
      "    Patch information added...\n",
      "You are now one step closer to computing the gain matrix\n",
      "Sampling rate: 39\n"
     ]
    },
    {
     "ename": "KeyError",
     "evalue": "'EEG'",
     "output_type": "error",
     "traceback": [
      "\u001B[0;31m---------------------------------------------------------------------------\u001B[0m",
      "\u001B[0;31mKeyError\u001B[0m                                  Traceback (most recent call last)",
      "Input \u001B[0;32mIn [2]\u001B[0m, in \u001B[0;36m<cell line: 16>\u001B[0;34m()\u001B[0m\n\u001B[1;32m     13\u001B[0m aln\u001B[38;5;241m.\u001B[39mrun(eeg\u001B[38;5;241m=\u001B[39m\u001B[38;5;28;01mTrue\u001B[39;00m)\n\u001B[1;32m     15\u001B[0m \u001B[38;5;66;03m# access EEG signal\u001B[39;00m\n\u001B[0;32m---> 16\u001B[0m EEG \u001B[38;5;241m=\u001B[39m \u001B[43maln\u001B[49m\u001B[38;5;241;43m.\u001B[39;49m\u001B[43moutputs\u001B[49m\u001B[43m[\u001B[49m\u001B[38;5;124;43m'\u001B[39;49m\u001B[38;5;124;43mEEG\u001B[39;49m\u001B[38;5;124;43m'\u001B[39;49m\u001B[43m]\u001B[49m[\u001B[38;5;124m'\u001B[39m\u001B[38;5;124mEEG\u001B[39m\u001B[38;5;124m'\u001B[39m]\n\u001B[1;32m     17\u001B[0m t_EEG \u001B[38;5;241m=\u001B[39m aln\u001B[38;5;241m.\u001B[39moutputs[\u001B[38;5;124m'\u001B[39m\u001B[38;5;124mEEG\u001B[39m\u001B[38;5;124m'\u001B[39m][\u001B[38;5;124m'\u001B[39m\u001B[38;5;124mt_EEG\u001B[39m\u001B[38;5;124m'\u001B[39m]\n",
      "\u001B[0;31mKeyError\u001B[0m: 'EEG'"
     ]
    }
   ],
   "source": [
    "# initialize ALN Model\n",
    "ds = Dataset(\"gw\")\n",
    "aln = ALNModel(Cmat = ds.Cmat, Dmat = ds.Dmat)\n",
    "aln.params['duration'] = 0.2*60*1000\n",
    "\n",
    "# change EEG parameters\n",
    "# aln.params['eeg_conductances'] = (0.3, 0.006, 0.3)\n",
    "# aln.params['eeg_scr_spacing'] = \"oct4\"\n",
    "aln.params['eeg_montage_sfreq'] = 150\n",
    "\n",
    "\n",
    "# run model with eeg=True\n",
    "aln.run(eeg=True)\n",
    "\n",
    "# access EEG signal\n",
    "EEG = aln.outputs['EEG']['EEG']\n",
    "t_EEG = aln.outputs['EEG']['t_EEG']"
   ],
   "metadata": {
    "collapsed": false,
    "pycharm": {
     "name": "#%%\n"
    }
   }
  },
  {
   "cell_type": "code",
   "execution_count": 4,
   "outputs": [
    {
     "ename": "KeyError",
     "evalue": "'EEG'",
     "output_type": "error",
     "traceback": [
      "\u001B[0;31m---------------------------------------------------------------------------\u001B[0m",
      "\u001B[0;31mKeyError\u001B[0m                                  Traceback (most recent call last)",
      "Input \u001B[0;32mIn [4]\u001B[0m, in \u001B[0;36m<cell line: 1>\u001B[0;34m()\u001B[0m\n\u001B[0;32m----> 1\u001B[0m \u001B[43maln\u001B[49m\u001B[38;5;241;43m.\u001B[39;49m\u001B[43moutputs\u001B[49m\u001B[43m[\u001B[49m\u001B[38;5;124;43m'\u001B[39;49m\u001B[38;5;124;43mEEG\u001B[39;49m\u001B[38;5;124;43m'\u001B[39;49m\u001B[43m]\u001B[49m[\u001B[38;5;124m'\u001B[39m\u001B[38;5;124mt_EEG\u001B[39m\u001B[38;5;124m'\u001B[39m]\n",
      "\u001B[0;31mKeyError\u001B[0m: 'EEG'"
     ]
    }
   ],
   "source": [
    "aln.outputs['EEG']['t_EEG']"
   ],
   "metadata": {
    "collapsed": false,
    "pycharm": {
     "name": "#%%\n"
    }
   }
  },
  {
   "cell_type": "code",
   "execution_count": null,
   "outputs": [],
   "source": [
    "1/np.diff(aln.outputs['EEG']['t_EEG']/1000) # THIS MEANS THAT THE DOWNSAMPLING IS WORKING!!"
   ],
   "metadata": {
    "collapsed": false,
    "pycharm": {
     "name": "#%%\n"
    }
   }
  },
  {
   "cell_type": "code",
   "execution_count": 3,
   "outputs": [
    {
     "data": {
      "text/plain": "{'t': array([1.00000e-01, 2.00000e-01, 3.00000e-01, ..., 1.19998e+04,\n        1.19999e+04, 1.20000e+04]),\n 'rates_exc': array([[6.99315569e-04, 6.24474643e-04, 5.72954108e-04, ...,\n         5.86130271e-01, 5.86149825e-01, 5.86710735e-01],\n        [4.09407878e-07, 4.21467576e-07, 4.31601362e-07, ...,\n         5.72770107e+01, 5.61181494e+01, 5.48775613e+01],\n        [5.35177088e+01, 4.33274453e+01, 3.60797013e+01, ...,\n         4.27989646e+00, 4.11864322e+00, 3.96183275e+00],\n        ...,\n        [2.54702663e+01, 2.30932132e+01, 2.10440163e+01, ...,\n         9.17796374e+00, 9.43874683e+00, 9.70588781e+00],\n        [2.70345201e-07, 2.93798580e-07, 3.15435242e-07, ...,\n         1.49098078e-01, 1.47027096e-01, 1.45133168e-01],\n        [5.86189836e+01, 5.07328227e+01, 4.47312092e+01, ...,\n         5.41051341e+00, 5.18415721e+00, 4.96480337e+00]]),\n 'rates_inh': array([[55.00529491, 47.30667226, 41.50894069, ...,  3.96491153,\n          3.80957846,  3.6582213 ],\n        [80.32145522, 68.73471057, 60.59373397, ..., 45.00881297,\n         45.75306402, 46.3252656 ],\n        [ 0.61801319,  0.63396071,  0.64827035, ..., 31.16610528,\n         30.97349512, 30.76882701],\n        ...,\n        [ 0.42929716,  0.43563068,  0.44151154, ...,  0.70752124,\n          0.73418578,  0.76170178],\n        [ 0.6984851 ,  0.68280453,  0.66737287, ...,  3.76817927,\n          3.5999279 ,  3.43395668],\n        [31.75324334, 31.61349522, 31.38755229, ..., 32.2932033 ,\n         32.16162866, 32.026192  ]]),\n 'IA': array([[1.75701952e+02, 1.75614101e+02, 1.75526294e+02, ...,\n         1.51789834e-24, 1.51713939e-24, 1.51638082e-24],\n        [1.77176534e+02, 1.77087946e+02, 1.76999402e+02, ...,\n         1.53063734e-24, 1.52987202e-24, 1.52910708e-24],\n        [4.41520952e+01, 4.41300191e+01, 4.41079541e+01, ...,\n         3.81432257e-25, 3.81241541e-25, 3.81050920e-25],\n        ...,\n        [2.51549305e+01, 2.51423530e+01, 2.51297819e+01, ...,\n         2.17314759e-25, 2.17206102e-25, 2.17097499e-25],\n        [1.23046153e+02, 1.22984630e+02, 1.22923137e+02, ...,\n         1.06300214e-24, 1.06247064e-24, 1.06193941e-24],\n        [3.74293788e+01, 3.74106641e+01, 3.73919588e+01, ...,\n         3.23354359e-25, 3.23192682e-25, 3.23031086e-25]])}"
     },
     "execution_count": 3,
     "metadata": {},
     "output_type": "execute_result"
    }
   ],
   "source": [
    "aln.outputs"
   ],
   "metadata": {
    "collapsed": false,
    "pycharm": {
     "name": "#%%\n"
    }
   }
  },
  {
   "cell_type": "code",
   "execution_count": null,
   "outputs": [],
   "source": [],
   "metadata": {
    "collapsed": false,
    "pycharm": {
     "name": "#%%\n"
    }
   }
  }
 ],
 "metadata": {
  "kernelspec": {
   "display_name": "Python 3",
   "language": "python",
   "name": "python3"
  },
  "language_info": {
   "codemirror_mode": {
    "name": "ipython",
    "version": 2
   },
   "file_extension": ".py",
   "mimetype": "text/x-python",
   "name": "python",
   "nbconvert_exporter": "python",
   "pygments_lexer": "ipython2",
   "version": "2.7.6"
  }
 },
 "nbformat": 4,
 "nbformat_minor": 0
}